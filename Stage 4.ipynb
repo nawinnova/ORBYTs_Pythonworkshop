{
 "cells": [
  {
   "attachments": {},
   "cell_type": "markdown",
   "metadata": {
    "colab_type": "text",
    "id": "O7Hae280h3z7"
   },
   "source": [
    "# Stage 4: The Sun (Coronal Imaging)\n",
    "\n",
    "A very important part of our Solar System is the Sun itself. It is for this reason that we, as its residents, have many observatories, both ground and space-based, that take measurements related to it and its influence.\n",
    "\n",
    "\n",
    "\n",
    "1.   Installing the relevant modules\n",
    "2.   Fetching Images from current spacecraft\n",
    "3.   Plotting them\n",
    "4.   Making a video in Python (intro)"
   ]
  },
  {
   "cell_type": "markdown",
   "metadata": {
    "colab_type": "text",
    "id": "Equdb67TlVjz"
   },
   "source": [
    "## Installing the relevant modules\n",
    "\n",
    "The first step here will be to get a module installed inside the jupyter notebook. To do that, just **run the following line the first time you open this notebook:**"
   ]
  },
  {
   "cell_type": "code",
   "execution_count": null,
   "metadata": {
    "colab": {},
    "colab_type": "code",
    "id": "Wxk8mQ5WmOm1"
   },
   "outputs": [],
   "source": [
    "!pip install -q sunpy[all]  # This package is used for all things Sun-related, hosted in github: https://github.com/sunpy/sunpy\n"
   ]
  },
  {
   "cell_type": "markdown",
   "metadata": {
    "colab_type": "text",
    "id": "QOoNUhhWpJbu"
   },
   "source": [
    "**After the installation is finished, click on Runtime and Restart the Runtime with Control + M!**"
   ]
  },
  {
   "cell_type": "code",
   "execution_count": null,
   "metadata": {
    "colab": {},
    "colab_type": "code",
    "id": "3tf_BVcOopfo"
   },
   "outputs": [],
   "source": [
    "from sunpy.net import Fido, attrs as a\n",
    "from astropy import units as u  \n",
    "\n",
    "from datetime import datetime   # Python's small Time module\n",
    "\n",
    "valid_wavelengths = [94, 131, 171, 193, 211, 304, 335, 1600, 1700]  # Note that 16/1700 are white light and not as useful here!\n",
    "\n",
    "\n",
    "Inst = 'aia'  # Here we will use the Atmospheric Imaging Assembly: aia\n",
    "# It is onboard the Solar Dynamics Observatory. \n",
    "#Provides us with images of the Sun almost 24-7!\n",
    "\n",
    "\n",
    "# Now choose the period we would like to get our data from. Please don't do too much at once!\n",
    "\n",
    "start_time = datetime(2012,8,31,18,0)  # Year,Month,Day,Hour,Minute\n",
    "end_time = datetime(2012,8,31,23,59)\n",
    "\n",
    "time_range = a.Time(start_time, end=end_time)\n",
    "\n",
    "lambda_ang = valid_wavelengths[2] * u.Angstrom  # Choose the 171 Angstrom wavelength as an example (Extreme Ultraviolet)\n",
    "\n",
    "\n",
    "samplerate_hours = 6 * u.minute  # We need to give our images a cadence for collection. \n",
    "# Please keep in mind that aia takes an image in all of its wavelengths every 12 seconds.\n",
    "# Choose a cadence depending on what you want to bring out!\n",
    "\n",
    "aia_query = time_range & a.Instrument.aia & a.Wavelength(lambda_ang) & a.Sample(samplerate_hours)\n",
    "\n",
    "fido = Fido.search(aia_query)\n",
    "\n",
    "print(fido)"
   ]
  },
  {
   "cell_type": "markdown",
   "metadata": {
    "colab_type": "text",
    "id": "M_CXsY3fvd1T"
   },
   "source": [
    "Now, we should have a series of results showing above this text-box. These are available records that we may now download using Fido.fetch function:\n",
    "However, we are not going to download now, since we already have the data downloaded. Still, you can try run this command at home later."
   ]
  },
  {
   "cell_type": "code",
   "execution_count": null,
   "metadata": {},
   "outputs": [],
   "source": [
    "# from os import makedirs as newdir\n",
    "# # Create new directories in google colab\n",
    "# dir_images = 'My_folder/'\n",
    "# newdir(dir_images, exist_ok = True)\n",
    "# # download data using Fido.fetch\n",
    "# Fido.fetch(fido, path = dir_images)"
   ]
  },
  {
   "cell_type": "code",
   "execution_count": null,
   "metadata": {
    "colab": {},
    "colab_type": "code",
    "id": "qZ8h8Vudvj5i"
   },
   "outputs": [],
   "source": [
    "# from shutil import rmtree\n",
    "# from os import makedirs as newdir\n",
    "# from os import path\n",
    "\n",
    "# if path.exists('WEW_PythonWorkshop_Database/'): # You wouldn't need these two lines if you're plotting a different date!\n",
    "#     rmtree(path.join('WEW_PythonWorkshop_Database/'))\n",
    "    \n",
    "# ! git clone https://github.com/andyto1234/WEW_PythonWorkshop_Database.git # We're downloading data from github so it's quicker!\n",
    "\n",
    "# dir_images = 'WEW_PythonWorkshop_Database/My_folder'\n",
    "# newdir(dir_images, exist_ok = True)\n",
    "\n",
    "# Fido.fetch(fido, path = 'WEW_PythonWorkshop_Database/My_folder/')"
   ]
  },
  {
   "attachments": {},
   "cell_type": "markdown",
   "metadata": {},
   "source": [
    "We have the data available on google drive, which everyone should have set them up before we start.\n",
    "Next step is to link your google drive to the colab"
   ]
  },
  {
   "cell_type": "code",
   "execution_count": null,
   "metadata": {},
   "outputs": [],
   "source": [
    "from google.colab import drive\n",
    "drive.mount('/content/drive')"
   ]
  },
  {
   "cell_type": "markdown",
   "metadata": {
    "colab_type": "text",
    "id": "wnMDCZrOq3Kq",
    "tags": []
   },
   "source": [
    "## Looking at our newly acquired data\n",
    "\n",
    "Now we need to access this data. For this we may use sunpy:"
   ]
  },
  {
   "cell_type": "code",
   "execution_count": null,
   "metadata": {
    "colab": {},
    "colab_type": "code",
    "id": "Z5VouhM9xhkt"
   },
   "outputs": [],
   "source": [
    "import matplotlib.pyplot as plt\n",
    "import sunpy.map\n",
    "import glob  # To fetch all files from a directory\n",
    "from os import makedirs as newdir\n",
    "\n",
    "\n",
    "map_list = sorted(glob.glob('/content/drive/MyDrive/PythonWorkshop/Sampledata_AIA171/*.fits'))\n",
    " \n",
    "for picture in map_list[0:3]:\n",
    "  \n",
    "  aia_map = sunpy.map.Map(picture)\n",
    "  aia_map.peek()\n",
    "  \n",
    "input('Happy with the results? Press enter again in this box to save all of the figures as png images')\n",
    "\n",
    "\n",
    "dir_png = 'My_pics'\n",
    "newdir(dir_png, exist_ok = True)\n",
    "\n",
    "for index, picture in enumerate(map_list):\n",
    "  aia_map = sunpy.map.Map(picture)\n",
    "  aia_map.plot()\n",
    "  plt.savefig(f'{dir_png}/{index:03d}.png', dpi=150)\n",
    "  plt.clf()\n",
    "  \n",
    "  print(f'Saved figure {index}')\n",
    "  "
   ]
  },
  {
   "cell_type": "markdown",
   "metadata": {
    "colab_type": "text",
    "id": "bRy81ZCryzFB"
   },
   "source": [
    "As we have just seen, it is fairly straightforward to get images from a spacecraft into Python and show them, but what can we do once we have these images?"
   ]
  },
  {
   "cell_type": "markdown",
   "metadata": {
    "colab_type": "text",
    "id": "91-uiXRPD6Ka"
   },
   "source": [
    "## Making videos out of our material\n",
    "\n",
    "A first good use of these images is to study the dynamics of the solar atmosphere, known to affect spacecraft and the Earth's weather! To do that, we need to have a look at all of the images in rapid succession."
   ]
  },
  {
   "cell_type": "code",
   "execution_count": null,
   "metadata": {
    "colab": {},
    "colab_type": "code",
    "id": "GcGkwXdjsZNe"
   },
   "outputs": [],
   "source": [
    "import cv2  # Here, we import OpenCV, a powerful image and video processing tool\n",
    "from os import getcwd\n",
    "\n",
    "\n",
    "img_array = []\n",
    "\n",
    "for filename in sorted(glob.glob(f'{dir_png}/*.png')):\n",
    "  img = cv2.imread(filename)\n",
    "  height, width, layers = img.shape\n",
    "  size = (width,height)\n",
    "  img_array.append(img)\n",
    "\n",
    "out = cv2.VideoWriter('solar_vid_disk.mp4',cv2.VideoWriter_fourcc(*'MP4V'), 6, size)\n",
    " \n",
    "for i in range(len(img_array)):\n",
    "    out.write(img_array[i])\n",
    "out.release()\n"
   ]
  },
  {
   "cell_type": "markdown",
   "metadata": {
    "colab_type": "text",
    "id": "THcMDyc5lV_O"
   },
   "source": [
    "With the above, we will have created a movie called \"solar_vid_disk.mp4\", which holds all of our images together.\n",
    "\n",
    "We can also play the video here."
   ]
  },
  {
   "cell_type": "code",
   "execution_count": null,
   "metadata": {},
   "outputs": [],
   "source": [
    "from IPython import display\n",
    "%matplotlib inline\n",
    "\n",
    "cap = cv2.VideoCapture('solar_vid_disk.mp4')\n",
    "\n",
    "while(cap.isOpened()):\n",
    "    try:\n",
    "        ret, frame = cap.read()\n",
    "        frame = cv2.cvtColor(frame, cv2.COLOR_BGR2RGB)\n",
    "        plt.imshow(frame)\n",
    "\n",
    "        display.clear_output(wait=True)\n",
    "        display.display(plt.gcf())\n",
    "\n",
    "    except KeyboardInterrupt: #Press Ctrl-M and then i to interrupt the running process\n",
    "        cap.release()\n"
   ]
  }
 ],
 "metadata": {
  "colab": {
   "collapsed_sections": [],
   "include_colab_link": true,
   "name": "Stage 5.ipynb",
   "provenance": [],
   "version": "0.3.2"
  },
  "kernelspec": {
   "display_name": "Python 3 (ipykernel)",
   "language": "python",
   "name": "python3"
  },
  "language_info": {
   "codemirror_mode": {
    "name": "ipython",
    "version": 3
   },
   "file_extension": ".py",
   "mimetype": "text/x-python",
   "name": "python",
   "nbconvert_exporter": "python",
   "pygments_lexer": "ipython3",
   "version": "3.7.12"
  }
 },
 "nbformat": 4,
 "nbformat_minor": 4
}
